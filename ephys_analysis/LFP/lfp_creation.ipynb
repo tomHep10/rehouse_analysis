{
 "cells": [
  {
   "cell_type": "code",
   "execution_count": 1,
   "metadata": {
    "tags": []
   },
   "outputs": [
    {
     "name": "stdout",
     "output_type": "stream",
     "text": [
      "env: SPECTRAL_CONNECTIVITY_ENABLE_GPU=true\n"
     ]
    }
   ],
   "source": [
    "%env SPECTRAL_CONNECTIVITY_ENABLE_GPU=true"
   ]
  },
  {
   "cell_type": "code",
   "execution_count": 2,
   "metadata": {
    "tags": []
   },
   "outputs": [
    {
     "name": "stderr",
     "output_type": "stream",
     "text": [
      "/blue/npadillacoreano/mcum/conda/envs/lfp_env/lib/python3.11/site-packages/tqdm/auto.py:21: TqdmWarning: IProgress not found. Please update jupyter and ipywidgets. See https://ipywidgets.readthedocs.io/en/stable/user_install.html\n",
      "  from .autonotebook import tqdm as notebook_tqdm\n"
     ]
    }
   ],
   "source": [
    "import os\n",
    "os.chdir('/blue/npadillacoreano/mcum/SocialMemEphys/diff_fam_social_memory_ephys')\n",
    "\n",
    "\n",
    "import cupy as xp\n",
    "from cupyx.scipy.fft import ifft\n",
    "from cupyx.scipy.sparse.linalg import svds\n",
    "from spectral_connectivity import Multitaper, Connectivity\n",
    "import importlib\n",
    "import pandas as pd\n",
    "from itertools import combinations\n",
    "import os\n",
    "from bidict import bidict\n",
    "import lfp.lfp_analysis.LFP_collection as LFP_collection\n",
    "import pickle \n",
    "def pickle_this(thing_to_pickle, file_name):\n",
    "    \"\"\"\n",
    "    Pickles things\n",
    "    Args (2):\n",
    "        thing_to_pickle: anything you want to pickle\n",
    "        file_name: str, filename that ends with .pkl\n",
    "    Returns:\n",
    "        none\n",
    "    \"\"\"\n",
    "    with open(file_name, \"wb\") as file:\n",
    "        pickle.dump(thing_to_pickle, file)\n",
    "def unpickle_this(pickle_file):\n",
    "    \"\"\"\n",
    "    Unpickles things\n",
    "    Args (1):\n",
    "        file_name: str, pickle filename that already exists and ends with .pkl\n",
    "    Returns:\n",
    "        pickled item\n",
    "    \"\"\"\n",
    "    with open(pickle_file, \"rb\") as file:\n",
    "        return pickle.load(file)\n",
    "\n",
    "df = pd.read_excel(r\"lfp/channel_mapping_sme.xlsx\")\n",
    "spike_cols = [col for col in df.columns if 'spike_interface_' in col.lower()]\n",
    "\n",
    "# Extract brain regions from column names\n",
    "# Assumes format 'spike_interface_REGION'\n",
    "brain_regions = [col.split('spike_interface_')[1] for col in spike_cols]\n",
    "\n",
    "# Create nested dictionary\n",
    "subject_to_channel_dict = {}\n",
    "\n",
    "\n",
    "\n",
    "\n",
    "\n",
    "\n",
    "\n",
    "for _, row in df.iterrows():\n",
    "    subject = row['Subject'].astype(str)\n",
    "    # Initialize inner dictionary for this subject\n",
    "    subject_to_channel_dict[subject] = {}\n",
    "    \n",
    "    # Populate inner dictionary with brain region: spike value pairs\n",
    "    for col, region in zip(spike_cols, brain_regions):\n",
    "        subject_to_channel_dict[subject][region] = int(row[col])\n",
    "behavior_dicts = {}\n",
    "pickle_this(subject_to_channel_dict[\n",
    "\n",
    "def make_recording_to_subj_dict(data_path):\n",
    "    recording_to_subject = {}\n",
    "    for root, dirs, files in os.walk(data_path):\n",
    "        for file in files:\n",
    "            if file.endswith('merged.rec'):\n",
    "                subject = str(int((file.split(\"_\")[0]))/10)\n",
    "                recording_to_subject[file] = subject\n",
    "                behavior_dicts[file] = {}\n",
    "    return recording_to_subject\n",
    "\n",
    "# def process(data_path):\n",
    "#     recording_to_subject = make_recording_to_subj_dict(data_path)\n",
    "#     print(recording_to_subject)\n",
    "#     collection = LFP_collection.LFPCollection(subject_to_channel_dict, data_path, recording_to_subject, 4)\n",
    "#     #collection.process()\n",
    "#     return collection    \n",
    "    \n",
    "\n",
    "\n"
   ]
  },
  {
   "cell_type": "code",
   "execution_count": 3,
   "metadata": {
    "tags": []
   },
   "outputs": [],
   "source": [
    "data_path = r\"data/object_control_data\"\n",
    "recording_to_subject = make_recording_to_subj_dict(data_path)\n"
   ]
  },
  {
   "cell_type": "code",
   "execution_count": 4,
   "metadata": {
    "tags": []
   },
   "outputs": [
    {
     "name": "stdout",
     "output_type": "stream",
     "text": [
      "Processing 22_object_merged.rec\n",
      "Found first timestamp\n",
      "Processing 44_object_merged.rec\n",
      "Found first timestamp\n",
      "Processing 32_object_merged.rec\n",
      "Found first timestamp\n",
      "Processing 31_object_merged.rec\n",
      "Found first timestamp\n",
      "Processing 23_object_merged.rec\n",
      "Found first timestamp\n",
      "Processing 41_object_merged.rec\n",
      "Found first timestamp\n"
     ]
    }
   ],
   "source": [
    "collection = LFP_collection.LFPCollection(subject_to_channel_dict, data_path, recording_to_subject, 5)\n"
   ]
  },
  {
   "cell_type": "code",
   "execution_count": 5,
   "metadata": {
    "tags": []
   },
   "outputs": [
    {
     "name": "stderr",
     "output_type": "stream",
     "text": [
      "  0%|          | 0/6 [00:00<?, ?it/s]"
     ]
    },
    {
     "name": "stdout",
     "output_type": "stream",
     "text": [
      "processing 22_object_merged.rec\n",
      "Filename: /blue/npadillacoreano/mcum/SocialMemEphys/diff_fam_social_memory_ephys/lfp/lfp_analysis/preprocessor.py\n",
      "\n",
      "Line #    Mem usage    Increment  Occurrences   Line Contents\n",
      "=============================================================\n",
      "    13    443.3 MiB    443.3 MiB           1   @profile\n",
      "    14                                         def preprocess(traces, threshold, scaling):\n",
      "    15                                             # brain_region_dict, traces = map_to_region(all_traces, subject_region_dict)\n",
      "    16    512.3 MiB     69.1 MiB           1       voltage_scaled_traces = scale_voltage(traces, scaling)\n",
      "    17    581.4 MiB     69.1 MiB           1       zscored_traces = zscore(voltage_scaled_traces)\n",
      "    18    650.3 MiB     68.9 MiB           1       filtered_traces = filter(zscored_traces, voltage_scaled_traces, threshold)\n",
      "    19    710.9 MiB     60.5 MiB           1       rms_traces = root_mean_square(filtered_traces)\n",
      "    20    710.9 MiB      0.0 MiB           1       return rms_traces\n",
      "\n",
      "\n",
      "RMS Traces calculated\n",
      "Power Calculated\n",
      "Coherence calcualatd\n"
     ]
    },
    {
     "name": "stderr",
     "output_type": "stream",
     "text": [
      "Maximum iterations reached. 3335 of 3620 converged\n",
      "Maximum iterations reached. 3424 of 3620 converged\n",
      "Maximum iterations reached. 3314 of 3620 converged\n",
      "Maximum iterations reached. 3319 of 3620 converged\n",
      "Maximum iterations reached. 3330 of 3620 converged\n",
      "Maximum iterations reached. 3271 of 3620 converged\n",
      "Maximum iterations reached. 3226 of 3620 converged\n",
      "Maximum iterations reached. 3350 of 3620 converged\n",
      "Maximum iterations reached. 3369 of 3620 converged\n",
      "Maximum iterations reached. 3250 of 3620 converged\n",
      " 17%|█▋        | 1/6 [00:43<03:38, 43.78s/it]"
     ]
    },
    {
     "name": "stdout",
     "output_type": "stream",
     "text": [
      "Granger's causality calculated\n",
      "processing 44_object_merged.rec\n",
      "Filename: /blue/npadillacoreano/mcum/SocialMemEphys/diff_fam_social_memory_ephys/lfp/lfp_analysis/preprocessor.py\n",
      "\n",
      "Line #    Mem usage    Increment  Occurrences   Line Contents\n",
      "=============================================================\n",
      "    13   1693.6 MiB   1693.6 MiB           1   @profile\n",
      "    14                                         def preprocess(traces, threshold, scaling):\n",
      "    15                                             # brain_region_dict, traces = map_to_region(all_traces, subject_region_dict)\n",
      "    16   1762.6 MiB     68.9 MiB           1       voltage_scaled_traces = scale_voltage(traces, scaling)\n",
      "    17   1831.7 MiB     69.1 MiB           1       zscored_traces = zscore(voltage_scaled_traces)\n",
      "    18   1909.0 MiB     77.3 MiB           1       filtered_traces = filter(zscored_traces, voltage_scaled_traces, threshold)\n",
      "    19   1969.4 MiB     60.4 MiB           1       rms_traces = root_mean_square(filtered_traces)\n",
      "    20   1969.4 MiB      0.0 MiB           1       return rms_traces\n",
      "\n",
      "\n",
      "RMS Traces calculated\n",
      "Power Calculated\n",
      "Coherence calcualatd\n"
     ]
    },
    {
     "name": "stderr",
     "output_type": "stream",
     "text": [
      "Maximum iterations reached. 3529 of 3618 converged\n",
      "Maximum iterations reached. 3560 of 3618 converged\n",
      "Maximum iterations reached. 3559 of 3618 converged\n",
      "Maximum iterations reached. 3543 of 3618 converged\n",
      "Maximum iterations reached. 3531 of 3618 converged\n",
      "Maximum iterations reached. 3549 of 3618 converged\n",
      "Maximum iterations reached. 3533 of 3618 converged\n",
      "Maximum iterations reached. 3582 of 3618 converged\n",
      "Maximum iterations reached. 3579 of 3618 converged\n",
      "Maximum iterations reached. 3570 of 3618 converged\n",
      " 33%|███▎      | 2/6 [01:08<02:10, 32.68s/it]"
     ]
    },
    {
     "name": "stdout",
     "output_type": "stream",
     "text": [
      "Granger's causality calculated\n",
      "processing 32_object_merged.rec\n",
      "Filename: /blue/npadillacoreano/mcum/SocialMemEphys/diff_fam_social_memory_ephys/lfp/lfp_analysis/preprocessor.py\n",
      "\n",
      "Line #    Mem usage    Increment  Occurrences   Line Contents\n",
      "=============================================================\n",
      "    13   2521.7 MiB   2521.7 MiB           1   @profile\n",
      "    14                                         def preprocess(traces, threshold, scaling):\n",
      "    15                                             # brain_region_dict, traces = map_to_region(all_traces, subject_region_dict)\n",
      "    16   2591.5 MiB     69.8 MiB           1       voltage_scaled_traces = scale_voltage(traces, scaling)\n",
      "    17   2661.4 MiB     69.9 MiB           1       zscored_traces = zscore(voltage_scaled_traces)\n",
      "    18   2731.2 MiB     69.8 MiB           1       filtered_traces = filter(zscored_traces, voltage_scaled_traces, threshold)\n",
      "    19   2801.0 MiB     69.8 MiB           1       rms_traces = root_mean_square(filtered_traces)\n",
      "    20   2801.0 MiB      0.0 MiB           1       return rms_traces\n",
      "\n",
      "\n",
      "RMS Traces calculated\n",
      "Power Calculated\n",
      "Coherence calcualatd\n"
     ]
    },
    {
     "name": "stderr",
     "output_type": "stream",
     "text": [
      "Maximum iterations reached. 3330 of 3660 converged\n",
      "Maximum iterations reached. 3327 of 3660 converged\n",
      "Maximum iterations reached. 3384 of 3660 converged\n",
      "Maximum iterations reached. 3451 of 3660 converged\n",
      "Maximum iterations reached. 3278 of 3660 converged\n",
      "Maximum iterations reached. 3310 of 3660 converged\n",
      "Maximum iterations reached. 3328 of 3660 converged\n",
      "Maximum iterations reached. 3320 of 3660 converged\n",
      "Maximum iterations reached. 3351 of 3660 converged\n",
      "Maximum iterations reached. 3422 of 3660 converged\n",
      " 50%|█████     | 3/6 [01:33<01:27, 29.27s/it]"
     ]
    },
    {
     "name": "stdout",
     "output_type": "stream",
     "text": [
      "Granger's causality calculated\n",
      "processing 31_object_merged.rec\n",
      "Filename: /blue/npadillacoreano/mcum/SocialMemEphys/diff_fam_social_memory_ephys/lfp/lfp_analysis/preprocessor.py\n",
      "\n",
      "Line #    Mem usage    Increment  Occurrences   Line Contents\n",
      "=============================================================\n",
      "    13   3359.6 MiB   3359.6 MiB           1   @profile\n",
      "    14                                         def preprocess(traces, threshold, scaling):\n",
      "    15                                             # brain_region_dict, traces = map_to_region(all_traces, subject_region_dict)\n",
      "    16   3429.4 MiB     69.8 MiB           1       voltage_scaled_traces = scale_voltage(traces, scaling)\n",
      "    17   3499.3 MiB     69.9 MiB           1       zscored_traces = zscore(voltage_scaled_traces)\n",
      "    18   3577.7 MiB     78.4 MiB           1       filtered_traces = filter(zscored_traces, voltage_scaled_traces, threshold)\n",
      "    19   3638.9 MiB     61.2 MiB           1       rms_traces = root_mean_square(filtered_traces)\n",
      "    20   3638.9 MiB      0.0 MiB           1       return rms_traces\n",
      "\n",
      "\n",
      "RMS Traces calculated\n",
      "Power Calculated\n",
      "Coherence calcualatd\n"
     ]
    },
    {
     "name": "stderr",
     "output_type": "stream",
     "text": [
      "Maximum iterations reached. 3592 of 3659 converged\n",
      "Maximum iterations reached. 3527 of 3659 converged\n",
      "Maximum iterations reached. 3581 of 3659 converged\n",
      "Maximum iterations reached. 3562 of 3659 converged\n",
      "Maximum iterations reached. 3528 of 3659 converged\n",
      "Maximum iterations reached. 3582 of 3659 converged\n",
      "Maximum iterations reached. 3558 of 3659 converged\n",
      "Maximum iterations reached. 3507 of 3659 converged\n",
      "Maximum iterations reached. 3480 of 3659 converged\n",
      "Maximum iterations reached. 3542 of 3659 converged\n",
      " 67%|██████▋   | 4/6 [01:59<00:55, 27.64s/it]"
     ]
    },
    {
     "name": "stdout",
     "output_type": "stream",
     "text": [
      "Granger's causality calculated\n",
      "processing 23_object_merged.rec\n",
      "Filename: /blue/npadillacoreano/mcum/SocialMemEphys/diff_fam_social_memory_ephys/lfp/lfp_analysis/preprocessor.py\n",
      "\n",
      "Line #    Mem usage    Increment  Occurrences   Line Contents\n",
      "=============================================================\n",
      "    13   4197.3 MiB   4197.3 MiB           1   @profile\n",
      "    14                                         def preprocess(traces, threshold, scaling):\n",
      "    15                                             # brain_region_dict, traces = map_to_region(all_traces, subject_region_dict)\n",
      "    16   4267.0 MiB     69.8 MiB           1       voltage_scaled_traces = scale_voltage(traces, scaling)\n",
      "    17   4337.0 MiB     70.0 MiB           1       zscored_traces = zscore(voltage_scaled_traces)\n",
      "    18   4415.3 MiB     78.3 MiB           1       filtered_traces = filter(zscored_traces, voltage_scaled_traces, threshold)\n",
      "    19   4476.6 MiB     61.2 MiB           1       rms_traces = root_mean_square(filtered_traces)\n",
      "    20   4476.6 MiB      0.0 MiB           1       return rms_traces\n",
      "\n",
      "\n",
      "RMS Traces calculated\n",
      "Power Calculated\n",
      "Coherence calcualatd\n"
     ]
    },
    {
     "name": "stderr",
     "output_type": "stream",
     "text": [
      "Maximum iterations reached. 3632 of 3660 converged\n",
      "Maximum iterations reached. 3640 of 3660 converged\n",
      "Maximum iterations reached. 3632 of 3660 converged\n",
      "Maximum iterations reached. 3582 of 3660 converged\n",
      "Maximum iterations reached. 3630 of 3660 converged\n",
      "Maximum iterations reached. 3636 of 3660 converged\n",
      "Maximum iterations reached. 3586 of 3660 converged\n",
      "Maximum iterations reached. 3642 of 3660 converged\n",
      "Maximum iterations reached. 3602 of 3660 converged\n",
      "Maximum iterations reached. 3589 of 3660 converged\n",
      " 83%|████████▎ | 5/6 [02:24<00:26, 26.75s/it]"
     ]
    },
    {
     "name": "stdout",
     "output_type": "stream",
     "text": [
      "Granger's causality calculated\n",
      "processing 41_object_merged.rec\n",
      "Filename: /blue/npadillacoreano/mcum/SocialMemEphys/diff_fam_social_memory_ephys/lfp/lfp_analysis/preprocessor.py\n",
      "\n",
      "Line #    Mem usage    Increment  Occurrences   Line Contents\n",
      "=============================================================\n",
      "    13   5035.2 MiB   5035.2 MiB           1   @profile\n",
      "    14                                         def preprocess(traces, threshold, scaling):\n",
      "    15                                             # brain_region_dict, traces = map_to_region(all_traces, subject_region_dict)\n",
      "    16   5104.9 MiB     69.7 MiB           1       voltage_scaled_traces = scale_voltage(traces, scaling)\n",
      "    17   5174.9 MiB     69.9 MiB           1       zscored_traces = zscore(voltage_scaled_traces)\n",
      "    18   5253.1 MiB     78.3 MiB           1       filtered_traces = filter(zscored_traces, voltage_scaled_traces, threshold)\n",
      "    19   5314.4 MiB     61.3 MiB           1       rms_traces = root_mean_square(filtered_traces)\n",
      "    20   5314.4 MiB      0.0 MiB           1       return rms_traces\n",
      "\n",
      "\n",
      "RMS Traces calculated\n",
      "Power Calculated\n",
      "Coherence calcualatd\n"
     ]
    },
    {
     "name": "stderr",
     "output_type": "stream",
     "text": [
      "Maximum iterations reached. 3608 of 3659 converged\n",
      "Maximum iterations reached. 3628 of 3659 converged\n",
      "Maximum iterations reached. 3618 of 3659 converged\n",
      "Maximum iterations reached. 2865 of 3659 converged\n",
      "Maximum iterations reached. 3605 of 3659 converged\n",
      "Maximum iterations reached. 3602 of 3659 converged\n",
      "Maximum iterations reached. 2854 of 3659 converged\n",
      "Maximum iterations reached. 3637 of 3659 converged\n",
      "Maximum iterations reached. 2879 of 3659 converged\n",
      "Maximum iterations reached. 2870 of 3659 converged\n",
      "100%|██████████| 6/6 [02:49<00:00, 28.27s/it]"
     ]
    },
    {
     "name": "stdout",
     "output_type": "stream",
     "text": [
      "Granger's causality calculated\n"
     ]
    },
    {
     "name": "stderr",
     "output_type": "stream",
     "text": [
      "\n"
     ]
    }
   ],
   "source": [
    "collection.process()"
   ]
  },
  {
   "cell_type": "code",
   "execution_count": 6,
   "metadata": {},
   "outputs": [],
   "source": [
    "LFP_collection.LFPCollection.save_to_json(collection, r\"data/object_control_sd5\")"
   ]
  },
  {
   "cell_type": "code",
   "execution_count": null,
   "metadata": {},
   "outputs": [],
   "source": []
  }
 ],
 "metadata": {
  "kernelspec": {
   "display_name": "ephys_env",
   "language": "python",
   "name": "python3"
  },
  "language_info": {
   "codemirror_mode": {
    "name": "ipython",
    "version": 3
   },
   "file_extension": ".py",
   "mimetype": "text/x-python",
   "name": "python",
   "nbconvert_exporter": "python",
   "pygments_lexer": "ipython3",
   "version": "3.10.9"
  }
 },
 "nbformat": 4,
 "nbformat_minor": 4
}
